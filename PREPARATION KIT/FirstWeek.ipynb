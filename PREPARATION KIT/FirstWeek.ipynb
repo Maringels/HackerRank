{
 "cells": [
  {
   "attachments": {},
   "cell_type": "markdown",
   "metadata": {},
   "source": [
    "## Plus Minus\n",
    "Dada una lista de números enteros, se te pide calcular y mostrar la **proporción** de números positivos, negativos y cero en la lista.\n",
    "### Restricciones\n",
    "- La longitud de la lista debe ser mayor que 0.\n",
    "- Los números de la lista pueden ser negativos, positivos o cero.\n",
    "\n",
    "### Ejemplo:\n",
    "**Ejemplo de entrada:**\n",
    "```python\n",
    "n = 6\n",
    "arr = [-4, 3, -9, 0, 4, 1]\n",
    "```\n",
    "**Ejemplo de salida:**\n",
    "```python\n",
    "0.500000\n",
    "0.333333\n",
    "0.166667\n",
    "```"
   ]
  },
  {
   "cell_type": "code",
   "execution_count": 10,
   "metadata": {},
   "outputs": [
    {
     "name": "stdout",
     "output_type": "stream",
     "text": [
      "0.500000\n",
      "0.333333\n",
      "0.166667\n"
     ]
    }
   ],
   "source": [
    "def plusMinus(n,arr):\n",
    "    # Calcula la cantidad de números positivos en la lista\n",
    "    pos = sum(1 for i in arr if i > 0)\n",
    "    \n",
    "    # Calcula la cantidad de números negativos en la lista\n",
    "    neg = sum(1 for i in arr if i < 0)\n",
    "    \n",
    "    # Calcula la cantidad de ceros en la lista\n",
    "    zero = sum(1 for i in arr if i == 0)\n",
    "    \n",
    "    # Almacena las cantidades en una tupla\n",
    "    numb = pos, neg, zero\n",
    "\n",
    "    # Calcula y muestra las proporciones\n",
    "    for i in numb:\n",
    "        print(format(i/n,'.6f'))\n",
    "\n",
    "# Ejemplo de uso\n",
    "n = 6\n",
    "arr = [-4, 3, -9, 0, 4, 1]\n",
    "plusMinus(n,arr)\n"
   ]
  },
  {
   "attachments": {},
   "cell_type": "markdown",
   "metadata": {},
   "source": [
    "## Mini-Max Sum\n",
    "Dado un arreglo de números enteros, se te pide **calcular la suma mínima y máxima** que se puede obtener al sumar exactamente cuatro elementos del arreglo.\n",
    "\n",
    "### Restricciones\n",
    "- El arreglo contiene exactamente cinco elementos.\n",
    "- Los elementos del arreglo son números enteros.\n",
    "### Ejemplo:\n",
    "**Ejemplo de entrada:**\n",
    "```python\n",
    "arr = [1, 2, 3, 4, 5]\n",
    "```\n",
    "**Ejemplo de salida:**\n",
    "```python\n",
    "10 14\n",
    "```"
   ]
  },
  {
   "cell_type": "code",
   "execution_count": 18,
   "metadata": {},
   "outputs": [
    {
     "name": "stdout",
     "output_type": "stream",
     "text": [
      "10 14\n"
     ]
    }
   ],
   "source": [
    "def miniMaxSum(arr):\n",
    "    # Calcula la suma total de los elementos del arreglo\n",
    "    total_sum = sum(arr)\n",
    "    \n",
    "    # Calcula las sumas restando cada elemento individualmente\n",
    "    l1 = [total_sum - i for i in arr]\n",
    "    \n",
    "    # Imprime la suma mínima y máxima\n",
    "    print(min(l1), max(l1))\n",
    "\n",
    "\n",
    "arr = [1, 2, 3, 4, 5]\n",
    "miniMaxSum(arr)"
   ]
  },
  {
   "attachments": {},
   "cell_type": "markdown",
   "metadata": {},
   "source": [
    "## Time Conversion\n",
    "Dada una hora en formato de reloj AM/PM, se te pide convertirla al **formato de 24 horas**.\n",
    "### Restricciones\n",
    "- La entrada está en el formato *hh:mm:ssAM* o *hh:mm:ssPM*, donde 01 ≤ hh ≤ 12 y 00 ≤ mm, ss ≤ 59.\n",
    "### Ejemplo:\n",
    "**Ejemplo de entrada:**\n",
    "```python\n",
    "s = '07:05:45PM'\n",
    "```\n",
    "**Ejemplo de salida:**\n",
    "```python\n",
    "'19:05:45'\n",
    "```\n",
    "\n"
   ]
  },
  {
   "cell_type": "code",
   "execution_count": 23,
   "metadata": {},
   "outputs": [
    {
     "name": "stdout",
     "output_type": "stream",
     "text": [
      "19:05:45\n"
     ]
    }
   ],
   "source": [
    "'''\n",
    "Primera opción importando librería 'datetime'\n",
    "'''\n",
    "# Importamos libreria\n",
    "from datetime import datetime\n",
    "\n",
    "def timeConversion(s):\n",
    "    # Definir formato del input\n",
    "    formatting = \"%I:%M:%S%p\"\n",
    "\n",
    "    # Utilizar datetime.strptime() para analizar input y strftime() para transformar al formato deseado\n",
    "    print(datetime.strptime(s,formatting).strftime(\"%H:%M:%S\"))\n",
    "\n",
    "s = '07:05:45PM'\n",
    "timeConversion(s)"
   ]
  },
  {
   "cell_type": "code",
   "execution_count": 25,
   "metadata": {},
   "outputs": [
    {
     "name": "stdout",
     "output_type": "stream",
     "text": [
      "19:05:45\n"
     ]
    }
   ],
   "source": [
    "'''\n",
    "Segunda opción sin importar librerías\n",
    "'''\n",
    "def timeConversion(s):\n",
    "    # Separamos los valores de la hora, minutos y segundos\n",
    "    hh, mm, ss = s[:-2].split(':')\n",
    "    am_pm = s[-2:]\n",
    "\n",
    "    # Verificamos si es AM o PM y realizamos la conversión correspondiente\n",
    "    if am_pm == 'AM':\n",
    "        # Si es AM y la hora es 12, se cambia a 00\n",
    "        if hh == '12':\n",
    "            hh = '00'\n",
    "    else:\n",
    "        # Si es PM, se suma 12 a la hora (excepto si es 12 PM)\n",
    "        if hh != '12':\n",
    "            hh = str(int(hh) + 12)\n",
    "\n",
    "    # Creamos la cadena con la hora convertida\n",
    "    converted_time = f\"{hh}:{mm}:{ss}\"\n",
    "    print(converted_time)\n",
    "\n",
    "s = '07:05:45PM'\n",
    "timeConversion(s)\n"
   ]
  },
  {
   "attachments": {},
   "cell_type": "markdown",
   "metadata": {},
   "source": [
    "## Sparse Arrays\n",
    "\n",
    "Dado un conjunto de cadenas y un conjunto de consultas, encuentra cuántas veces aparece cada consulta en las cadenas.\n",
    "\n",
    "### Restricciones\n",
    "\n",
    "- La longitud de la lista de cadenas no superará los 1000 elementos.\n",
    "- La longitud de cada cadena no superará los 20 caracteres.\n",
    "- La longitud de la lista de consultas no superará los 1000 elementos.\n",
    "- Las consultas y las cadenas solo contienen letras minúsculas.\n",
    "\n",
    "### Ejemplo\n",
    "\n",
    "**Ejemplo de entrada:**\n",
    "```python\n",
    "strings = ['ab', 'ab', 'abc']\n",
    "queries = ['ab', 'abc', 'bc']\n",
    "```\n",
    "**Ejemplo de salida:**\n",
    "```python\n",
    "2\n",
    "1\n",
    "0\n",
    "```"
   ]
  },
  {
   "cell_type": "code",
   "execution_count": 27,
   "metadata": {},
   "outputs": [
    {
     "data": {
      "text/plain": [
       "[2, 1, 0]"
      ]
     },
     "execution_count": 27,
     "metadata": {},
     "output_type": "execute_result"
    }
   ],
   "source": [
    "def matchingStrings(strings, queries):\n",
    "    # Diccionario para almacenar el conteo de cada consulta\n",
    "    count = {}  \n",
    "\n",
    "    for word in queries:\n",
    "        count[word] = 0  # Inicializar el conteo de la consulta en 0\n",
    "        for word_ls in strings:\n",
    "            if word == word_ls:\n",
    "                count[word] += 1  # Incrementar el conteo si se encuentra una coincidencia\n",
    "    return [count[word] for word in queries]  # Retornar una lista con el conteo de cada consulta\n",
    "\n",
    "\n",
    "strings = ['aba', 'baba', 'aba', 'xzxb']\n",
    "queries = ['aba', 'xzxb', 'ab']\n",
    "\n",
    "matchingStrings(strings,queries)"
   ]
  },
  {
   "attachments": {},
   "cell_type": "markdown",
   "metadata": {},
   "source": [
    "## Lonely Integer\n",
    "\n",
    "Dado un conjunto de enteros, donde cada entero aparece exactamente dos veces, excepto uno que aparece solo una vez, encuentra ese entero único.\n",
    "\n",
    "### Restricciones\n",
    "\n",
    "- La longitud de la lista de enteros será un número impar.\n",
    "- Los enteros estarán en el rango de -10^9 a 10^9.\n",
    "\n",
    "### Ejemplo\n",
    "\n",
    "**Ejemplo de entrada:**\n",
    "```python\n",
    "arr = [1, 2, 3, 4, 3, 2, 1]\n",
    "```\n",
    "**Ejemplo de salida:**\n",
    "```python\n",
    "4\n",
    "```"
   ]
  },
  {
   "cell_type": "code",
   "execution_count": 36,
   "metadata": {},
   "outputs": [
    {
     "data": {
      "text/plain": [
       "4"
      ]
     },
     "execution_count": 36,
     "metadata": {},
     "output_type": "execute_result"
    }
   ],
   "source": [
    "\n",
    "def lonelyinteger(arr):\n",
    "    # Contar la cantidad de ocurrencias de cada número en el arreglo\n",
    "    cant_numeros = {num:arr.count(num) for num in set(arr)}\n",
    "    \n",
    "    # Encontrar los números únicos que aparecen solo una vez\n",
    "    unique_num =  [key for key, val in cant_numeros.items() if val == 1]\n",
    "    \n",
    "    # Si solo hay un número único, devolverlo\n",
    "    if len(unique_num) == 1:\n",
    "        return unique_num[0]\n",
    "    \n",
    "    # Si hay múltiples números únicos, devolver la lista de números\n",
    "    return unique_num\n",
    "\n",
    "arr = [1, 2, 3, 4, 3, 2, 1]\n",
    "lonelyinteger(arr)\n"
   ]
  },
  {
   "attachments": {},
   "cell_type": "markdown",
   "metadata": {},
   "source": [
    "## Flipping Bits\n",
    "\n",
    "\n",
    "El problema \"Flipping Bits\" se trata de **invertir cada bit** en un número entero no negativo y luego devolver el nuevo número resultante.\n",
    "\n",
    "### Restricciones\n",
    "\n",
    "-El número de entrada es un entero no negativo.\n",
    "-El número se representa utilizando 32 bits sin signo.\n",
    "### Ejemplo\n",
    "\n",
    "**Ejemplo de entrada:**\n",
    "```python\n",
    "n = 4\n",
    "```\n",
    "**Ejemplo de salida:**\n",
    "```python\n",
    "4294967291\n",
    "```"
   ]
  },
  {
   "cell_type": "code",
   "execution_count": 49,
   "metadata": {},
   "outputs": [
    {
     "data": {
      "text/plain": [
       "4294967291"
      ]
     },
     "execution_count": 49,
     "metadata": {},
     "output_type": "execute_result"
    }
   ],
   "source": [
    "def flippingBits(n):\n",
    "    # Invertir los bits con '~' y aplicamos mascara de 32 bits\n",
    "    flipped = ~n & 0xFFFFFFFF  \n",
    "    return flipped\n",
    "\n",
    "n = 4\n",
    "flippingBits(n)"
   ]
  },
  {
   "attachments": {},
   "cell_type": "markdown",
   "metadata": {},
   "source": [
    "## Diagonal Difference\n",
    "\n",
    "Dada una matriz cuadrada de tamaño n x n, se te pide calcular la **diferencia absoluta** entre la suma de los elementos de la diagonal principal y la diagonal secundaria.\n",
    "\n",
    "### Restricciones\n",
    "\n",
    "- La matriz será siempre cuadrada, es decir, tendrá el mismo número de filas y columnas.\n",
    "- Los elementos de la matriz serán enteros.\n",
    "### Ejemplo\n",
    "\n",
    "**Ejemplo de entrada:**\n",
    "```python\n",
    "arr = [[1, 2, 3],\n",
    "       [4, 5, 6],\n",
    "       [9, 8, 9]]\n",
    "```\n",
    "**Ejemplo de salida:**\n",
    "```python\n",
    "2\n",
    "```"
   ]
  },
  {
   "cell_type": "code",
   "execution_count": 66,
   "metadata": {},
   "outputs": [
    {
     "data": {
      "text/plain": [
       "2"
      ]
     },
     "execution_count": 66,
     "metadata": {},
     "output_type": "execute_result"
    }
   ],
   "source": [
    "def diagonalDifference(arr):\n",
    "    # Crear listas para almacenar los elementos de las diagonales principal y secundaria\n",
    "    diagonal_principal = []\n",
    "    diagonal_secundaria = []\n",
    "    \n",
    "    # Obtener el tamaño de la matriz\n",
    "    n = len(arr)\n",
    "    \n",
    "    # Recorrer las filas de la matriz\n",
    "    for i in range(n):\n",
    "        # Agregar el elemento correspondiente de la diagonal principal a la lista diagonal_principal\n",
    "        diagonal_principal.append(arr[i][i])\n",
    "        # Agregar el elemento correspondiente de la diagonal secundaria a la lista diagonal_secundaria\n",
    "        diagonal_secundaria.append(arr[i][n-i-1])\n",
    "\n",
    "    # Calcular la diferencia absoluta entre las sumas de las diagonales principal y secundaria\n",
    "    return abs(sum(diagonal_principal) - sum(diagonal_secundaria))\n",
    "\n",
    "\n",
    "\n",
    "arr = [[1, 2, 3],\n",
    "       [4, 5, 6],\n",
    "       [9, 8, 9]]\n",
    "diagonalDifference(arr)"
   ]
  },
  {
   "attachments": {},
   "cell_type": "markdown",
   "metadata": {},
   "source": [
    "## Counting Sort 1\n",
    "\n",
    "Dado un arreglo de enteros no negativos, realiza el **conteo** de cuántas veces aparece cada elemento y muestra el resultado en un nuevo arreglo.\n",
    "\n",
    "### Restricciones\n",
    "- El tamaño del arreglo es de al menos 1 y como máximo 100.\n",
    "- Los elementos del arreglo son enteros no negativos y no superan el valor 99.\n",
    "### Ejemplo\n",
    "\n",
    "**Ejemplo de entrada:**\n",
    "```python\n",
    "arr = [1, 4, 2, 2, 3, 5, 1]\n",
    "```\n",
    "**Ejemplo de salida:**\n",
    "```python\n",
    "1 3\n",
    "2 1\n",
    "3 1\n",
    "```"
   ]
  },
  {
   "cell_type": "code",
   "execution_count": 91,
   "metadata": {},
   "outputs": [
    {
     "data": {
      "text/plain": [
       "[2,\n",
       " 0,\n",
       " 1,\n",
       " 0,\n",
       " 0,\n",
       " 1,\n",
       " 1,\n",
       " 1,\n",
       " 1,\n",
       " 0,\n",
       " 0,\n",
       " 1,\n",
       " 3,\n",
       " 2,\n",
       " 2,\n",
       " 0,\n",
       " 4,\n",
       " 4,\n",
       " 1,\n",
       " 1,\n",
       " 0,\n",
       " 0,\n",
       " 0,\n",
       " 0,\n",
       " 3,\n",
       " 0,\n",
       " 0,\n",
       " 1,\n",
       " 0,\n",
       " 1,\n",
       " 2,\n",
       " 0,\n",
       " 1,\n",
       " 2,\n",
       " 2,\n",
       " 3,\n",
       " 0,\n",
       " 2,\n",
       " 0,\n",
       " 0,\n",
       " 1,\n",
       " 0,\n",
       " 1,\n",
       " 1,\n",
       " 0,\n",
       " 0,\n",
       " 1,\n",
       " 1,\n",
       " 0,\n",
       " 2,\n",
       " 0,\n",
       " 0,\n",
       " 1,\n",
       " 1,\n",
       " 1,\n",
       " 0,\n",
       " 1,\n",
       " 0,\n",
       " 1,\n",
       " 1,\n",
       " 2,\n",
       " 3,\n",
       " 0,\n",
       " 1,\n",
       " 2,\n",
       " 0,\n",
       " 1,\n",
       " 2,\n",
       " 1,\n",
       " 1,\n",
       " 4,\n",
       " 1,\n",
       " 0,\n",
       " 1,\n",
       " 1,\n",
       " 3,\n",
       " 0,\n",
       " 0,\n",
       " 2,\n",
       " 1,\n",
       " 2,\n",
       " 3,\n",
       " 2,\n",
       " 2,\n",
       " 2,\n",
       " 0,\n",
       " 0,\n",
       " 1,\n",
       " 0,\n",
       " 0,\n",
       " 0,\n",
       " 0,\n",
       " 0,\n",
       " 0,\n",
       " 2,\n",
       " 0,\n",
       " 1,\n",
       " 3,\n",
       " 1,\n",
       " 0]"
      ]
     },
     "execution_count": 91,
     "metadata": {},
     "output_type": "execute_result"
    }
   ],
   "source": [
    "def countingSort(arr):\n",
    "    frequencies = [0] * 100  # Inicializamos una lista de frecuencias con 100 elementos, todos en 0\n",
    "    \n",
    "    # Contamos las apariciones de cada número en el arreglo\n",
    "    for num in arr:\n",
    "        frequencies[num] += 1  # Incrementamos la frecuencia del número correspondiente\n",
    "    \n",
    "    # Devolvemos la lista de frecuencias\n",
    "    return frequencies  \n",
    "\n",
    "\n",
    "\n",
    "\n",
    "\n",
    "arr =   [63, 54, 17, 78, 43, 70, 32, 97, 16, 94, 74, 18, 60, 61, 35, 83, 13, 56, 75, 52, \n",
    "         70, 12, 24, 37, 17, 0, 16, 64, 34, 81, 82, 24, 69, 2, 30, 61, 83, 37, 97, 16, 70, \n",
    "         53, 0, 61, 12, 17, 97, 67, 33, 30, 49, 70, 11, 40, 67, 94, 84, 60, 35, 58, 19, 81,\n",
    "         16, 14, 68, 46, 42, 81, 75, 87, 13, 84, 33, 34, 14, 96, 7, 59, 17, 98, 79, 47, 71, \n",
    "         75, 8, 27, 73, 66, 64, 12, 29, 35, 80, 78, 80, 6, 5, 24, 49, 82]\n",
    "\n",
    "countingSort(arr)\n"
   ]
  },
  {
   "attachments": {},
   "cell_type": "markdown",
   "metadata": {},
   "source": [
    "## Pangrams\n",
    "\n",
    "Dado una cadena de texto, se busca determinar si es un pangrama o no. Un pangrama es una frase que contiene todas las letras del alfabeto al menos una vez.\n",
    "\n",
    "### Restricciones\n",
    "\n",
    "- La cadena de texto contiene solo letras minúsculas y espacios.\n",
    "- La cadena de texto tiene una longitud máxima de 1000 caracteres\n",
    "\n",
    "### Ejemplo\n",
    "\n",
    "**Ejemplo de entrada:**\n",
    "```python\n",
    "s = \"The quick brown fox jumps over the lazy dog\"\n",
    "```\n",
    "**Ejemplo de salida:**\n",
    "```python\n",
    "pangram\n",
    "```"
   ]
  },
  {
   "cell_type": "code",
   "execution_count": 102,
   "metadata": {},
   "outputs": [
    {
     "name": "stdout",
     "output_type": "stream",
     "text": [
      "pangram\n",
      "not pangram\n"
     ]
    }
   ],
   "source": [
    "from string import ascii_lowercase\n",
    "'''\n",
    "Primera opción utilizando librería string.ascii_lowercase\n",
    "'''\n",
    "def pangrams(s):\n",
    "    # Convertir la cadena a minúsculas\n",
    "    s.lower()\n",
    "    \n",
    "    # Verificar si el conjunto de letras en la cadena es mayor o igual al abecedario en minusculas (ascii_lowercase)\n",
    "    if set(s.lower()) >= set(ascii_lowercase):\n",
    "        return 'pangram'\n",
    "    else:\n",
    "        return 'not pangram'\n",
    "\n",
    "    \n",
    "\n",
    "s1 = \"NOVmETKPTbYu ftZPEykhjgF GGkdGjWGwW skjPJsea dtwdqcr DERCUgxOxrRgDQbdzL IZjyXs\"\n",
    "s2 = 'We promptly judged antique ivory buckles for the prize'\n",
    "print(pangrams(s1))\n",
    "print(pangrams(s2))\n"
   ]
  },
  {
   "cell_type": "code",
   "execution_count": 106,
   "metadata": {},
   "outputs": [
    {
     "name": "stdout",
     "output_type": "stream",
     "text": [
      "pangram\n",
      "not pangram\n"
     ]
    }
   ],
   "source": [
    "'''\n",
    "Segunda opción sin utilizar librerías\n",
    "'''\n",
    "def pangrams(s):\n",
    "    # Convertir la cadena a minúsculas con valores unicos (set)\n",
    "    text = set(s.lower())\n",
    "    # Creamos variable con abecedario en mismo formato\n",
    "    mk =set('abcdefghijklmnopqrstuvwxyz')\n",
    " \n",
    "    # Verificamos si input dado es mayor o igual a la máscara con el abecedario \n",
    "    if text >= mk:\n",
    "        return 'pangram'\n",
    "    else:\n",
    "        return 'not pangram'\n",
    "    \n",
    "print(pangrams(s1))\n",
    "print(pangrams(s2))\n"
   ]
  },
  {
   "attachments": {},
   "cell_type": "markdown",
   "metadata": {},
   "source": [
    "## Two Arrays\n",
    "\n",
    "Dado dos arreglos de enteros, A y B, y un número entero k, se te pide determinar si existen **permutaciones** de los elementos de A y B, denotadas como A' y B' respectivamente, de manera que A'[i] + B'[i] >= k para cada i en el rango de 0 a n-1, donde n es el tamaño de los arreglos.\n",
    "\n",
    "### Restricciones\n",
    "\n",
    "- Los arreglos A y B contienen enteros no negativos y no exceden los 10^3 elementos.\n",
    "- El valor de k está en el rango de 0 a 10^5.\n",
    "\n",
    "### Ejemplo\n",
    "\n",
    "**Ejemplo de entrada:**\n",
    "```python\n",
    "k = 10\n",
    "A = [2, 1, 3]\n",
    "B = [7, 8, 9]\n",
    "```\n",
    "**Ejemplo de salida:**\n",
    "```python\n",
    "YES\n",
    "```"
   ]
  },
  {
   "cell_type": "code",
   "execution_count": 107,
   "metadata": {},
   "outputs": [
    {
     "data": {
      "text/plain": [
       "'YES'"
      ]
     },
     "execution_count": 107,
     "metadata": {},
     "output_type": "execute_result"
    }
   ],
   "source": [
    "def twoArrays(k, A, B):\n",
    "    sorted_A = sorted(A)  # Ordenar el arreglo A en forma ascendente\n",
    "    sorted_B = sorted(B, reverse=True)  # Ordenar el arreglo B en forma descendente\n",
    "\n",
    "    for i in range(len(sorted_A)):\n",
    "        if sorted_A[i] + sorted_B[i] < k:  # Verificar si la suma de los elementos de A' y B' es menor que k\n",
    "            return 'NO'  # Si se encuentra alguna suma menor que k, se devuelve 'NO'\n",
    "\n",
    "    return 'YES'  # Si todas las sumas son mayores o iguales a k, se devuelve 'YES'\n",
    "\n",
    "\n",
    "\n",
    "k = 10\n",
    "A = [2, 1, 3]\n",
    "B = [7, 8, 9]\n",
    "\n",
    "twoArrays(k,A,B)"
   ]
  },
  {
   "attachments": {},
   "cell_type": "markdown",
   "metadata": {},
   "source": [
    "## The Birthday Bar\n",
    "Dado un conjunto de barras de chocolate con valores numéricos y la longitud requerida de una barra de chocolate para un cumpleaños, encuentra **cuántas formas diferentes** hay de seleccionar una serie de barras contiguas cuya suma sea igual a la longitud requerida\n",
    "\n",
    "### Restricciones\n",
    "\n",
    "- La longitud del arreglo de barras de chocolate no superará los 100 elementos.\n",
    "- El valor de cada barra de chocolate será un entero positivo.\n",
    "- La longitud requerida de la barra de chocolate será un entero positivo\n",
    "### Ejemplo\n",
    "\n",
    "**Ejemplo de entrada:**\n",
    "```python\n",
    "chocolate = [1, 2, 1, 3, 2]\n",
    "day = 3\n",
    "month = 2\n",
    "```\n",
    "**Ejemplo de salida:**\n",
    "```python\n",
    "2\n",
    "```"
   ]
  },
  {
   "cell_type": "code",
   "execution_count": 114,
   "metadata": {},
   "outputs": [
    {
     "data": {
      "text/plain": [
       "2"
      ]
     },
     "execution_count": 114,
     "metadata": {},
     "output_type": "execute_result"
    }
   ],
   "source": [
    "def birthday(s, d, m):\n",
    "    count = 0  # Inicializar contador de formas\n",
    "\n",
    "    ''' \n",
    "    La expresión len(s) - m + 1 determina el rango de índices sobre los cuales iterar.\n",
    "    Restar m y sumar 1 garantiza que la serie de longitud m esté completamente contenida \n",
    "    dentro de s, sin desbordar su longitud.\n",
    "\n",
    "    '''\n",
    "    for i in range(len(s) - m + 1):\n",
    "        # Sumar las barras consecutivas desde el índice i hasta i + m\n",
    "        if sum(s[i:i+m]) == d:\n",
    "            count += 1  # Incrementar contador si la suma es igual a d\n",
    "\n",
    "    return count  # Retornar el contador de formas diferentes\n",
    "\n",
    "\n",
    "\n",
    "\n",
    "s = [1, 2, 1, 3, 2]\n",
    "d = 3\n",
    "m = 2\n",
    "\n",
    "birthday(s,d,m)"
   ]
  },
  {
   "attachments": {},
   "cell_type": "markdown",
   "metadata": {},
   "source": [
    "## Strings XOR\n",
    "Dado un string s y un entero k, realiza la operación XOR entre cada carácter del string y k, y devuelve el nuevo string resultante.\n",
    "\n",
    "### Restricciones\n",
    "- El string s consta de caracteres alfanuméricos en minúsculas.\n",
    "- El valor de k es un entero no negativo.\n",
    "### Ejemplo\n",
    "\n",
    "**Ejemplo de entrada:**\n",
    "```python\n",
    "s = \"10101\"\n",
    "t = \"00101\"\n",
    "```\n",
    "**Ejemplo de salida:**\n",
    "```python\n",
    "10000\n",
    "```"
   ]
  },
  {
   "cell_type": "code",
   "execution_count": 120,
   "metadata": {},
   "outputs": [
    {
     "name": "stdout",
     "output_type": "stream",
     "text": [
      "10000\n"
     ]
    }
   ],
   "source": [
    "# Definición de la función strings_xor\n",
    "def strings_xor(s, t):\n",
    "    res = \"\"  # Variable para almacenar el resultado\n",
    "    \n",
    "    # Recorrer cada índice i en el rango de longitud de s\n",
    "    for i in range(len(s)):\n",
    "        if s[i] == t[i]:  # Comparar caracteres en el índice i de s y t\n",
    "            res += '0'  # Agregar '0' al resultado si son iguales\n",
    "        else:\n",
    "            res += '1'  # Agregar '1' al resultado si son diferentes\n",
    "    \n",
    "    return res  # Devolver el resultado\n",
    "\n",
    "\n",
    "s = \"10101\"\n",
    "t = \"00101\"\n",
    "print(strings_xor(s, t))"
   ]
  },
  {
   "attachments": {},
   "cell_type": "markdown",
   "metadata": {},
   "source": [
    "# MOCK TEST"
   ]
  },
  {
   "attachments": {},
   "cell_type": "markdown",
   "metadata": {},
   "source": [
    "## Find the Median\n",
    "\n",
    "Dada una lista de números con un número impar de elementos, encontrar la mediana, que es básicamente el elemento central después de ordenar la lista.\n",
    "\n",
    "\n",
    "\n",
    "### Ejemplo\n",
    "\n",
    "**Ejemplo de entrada:**\n",
    "```python\n",
    "arr = [0, 1, 2, 4, 6, 5, 3]\n",
    "\n",
    "```\n",
    "**Ejemplo de salida:**\n",
    "```python\n",
    "3\n",
    "\n",
    "```"
   ]
  },
  {
   "cell_type": "code",
   "execution_count": 121,
   "metadata": {},
   "outputs": [
    {
     "data": {
      "text/plain": [
       "3"
      ]
     },
     "execution_count": 121,
     "metadata": {},
     "output_type": "execute_result"
    }
   ],
   "source": [
    "def findMedian(arr):\n",
    " sorted_arr = sorted(arr)\n",
    " median_index = len(sorted_arr) // 2\n",
    " return sorted_arr[median_index]\n",
    "\n",
    "arr = [0, 1, 2, 4, 6, 5, 3]\n",
    "findMedian(arr)"
   ]
  },
  {
   "attachments": {},
   "cell_type": "markdown",
   "metadata": {},
   "source": [
    "## Flipping the Matrix\n",
    "\n",
    "\n",
    "Dado un juego en el que se manipula una matriz, el objetivo es maximizar la suma de los elementos en el cuadrante superior izquierdo. Para lograrlo, se pueden revertir filas y columnas de la matriz. El desafío consiste en encontrar la mejor combinación de reversión para obtener la suma máxima en el cuadrante superior izquierdo.\n",
    "\n",
    "\n",
    "### Ejemplo\n",
    "\n",
    "**Ejemplo de entrada:**\n",
    "```python\n",
    "arr = 1 2\n",
    "      3 4\n",
    "\n",
    "```\n",
    "**Ejemplo de salida:**\n",
    "```python\n",
    "      4 \n",
    "\n",
    "\n",
    "```\n"
   ]
  },
  {
   "cell_type": "code",
   "execution_count": 130,
   "metadata": {},
   "outputs": [
    {
     "data": {
      "text/plain": [
       "4"
      ]
     },
     "execution_count": 130,
     "metadata": {},
     "output_type": "execute_result"
    }
   ],
   "source": [
    "def flippingMatrix(matrix):\n",
    "    n = len(matrix)  # Tamaño de la matriz\n",
    "    total = 0  # Variable para almacenar la suma máxima de elementos\n",
    "\n",
    "    # Recorremos solo la mitad superior izquierda de la matriz\n",
    "    for i in range(n//2):\n",
    "        for j in range(n//2):\n",
    "            # Obtenemos los elementos de las cuatro esquinas\n",
    "            top_left = matrix[i][j]\n",
    "            top_right = matrix[i][n-1-j]\n",
    "            bottom_left = matrix[n-1-i][j]\n",
    "            bottom_right = matrix[n-1-i][n-1-j]\n",
    "\n",
    "            # Obtenemos el valor máximo entre las cuatro esquinas\n",
    "            max_val = max(top_left, top_right, bottom_left, bottom_right)\n",
    "\n",
    "            # Agregamos el valor máximo a la suma total\n",
    "            total += max_val\n",
    "\n",
    "    return total\n",
    "\n",
    "\n",
    "\n",
    "\n",
    "matrix = [[1, 2], [3, 4]]\n",
    "flippingMatrix(matrix)"
   ]
  }
 ],
 "metadata": {
  "kernelspec": {
   "display_name": "Python 3",
   "language": "python",
   "name": "python3"
  },
  "language_info": {
   "codemirror_mode": {
    "name": "ipython",
    "version": 3
   },
   "file_extension": ".py",
   "mimetype": "text/x-python",
   "name": "python",
   "nbconvert_exporter": "python",
   "pygments_lexer": "ipython3",
   "version": "3.7.4"
  },
  "orig_nbformat": 4
 },
 "nbformat": 4,
 "nbformat_minor": 2
}
